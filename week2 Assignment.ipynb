# -*- coding: utf-8 -*-
"""
Created on Mon Jun 29 11:18:47 2020

@author: Yatharth
"""

import pandas as pd
import numpy

data = pandas.read_csv('mars_crater_data_set.csv',low_memory=False)

print(len(data))        #Number of Observations (rows)
print(len(data.columns))#Number of Variables (columns)

data.columns = map(str.upper,data.columns)

pd.set_option('display.float_format', lambda x:'%f'%x)

data

data.describe()

data.head()

print("Counts for \"NUMBER_LAYERS\" variable...")
number_layer = data.groupby("NUMBER_LAYERS").size()                       #counts
print(number_layer)
print('\n')
print("Percentages for \"NUMBER_LAYERS\" variable...")
number_layer_percent = data.groupby("NUMBER_LAYERS").size() * 100 / len(data)   #precentages
print(number_layer_percent)


# frequency distributions for depth of craters variable
print("Counts for \"DEPTH_RIMFLOOR_TOPOG\" variable...")
depth_rimfloor_topog = data["DEPTH_RIMFLOOR_TOPOG"].value_counts(sort = False)                       #counts
print(depth_rimfloor_topog)
print('\n')
print("Percentage for \"DEPTH_RIMFLOOR_TOPOG\" variable...")
depth_rimfloor_topog_percent = data["DEPTH_RIMFLOOR_TOPOG"].value_counts(sort = False, normalize = True)    #percentages
print(depth_rimfloor_topog_percent)


# frequency distributions
print("Counts for \"DIAM_CIRCLE_IMAGE\" variable...")
diam_circle_image = data["DIAM_CIRCLE_IMAGE"].value_counts(sort = False)                      #counts
print(diam_circle_image)
print('\n')
print("Percentages for \"DIAM_CIRCLE_IMAGE\" variable...")
diam_circle_image_percent = data["DIAM_CIRCLE_IMAGE"].value_counts(sort = False,normalize = True)    #precentages
print(diam_circle_image_percent)